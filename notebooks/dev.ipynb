{
 "cells": [
  {
   "cell_type": "markdown",
   "id": "3a84346e-f934-4284-84c3-7c3d70f8a87e",
   "metadata": {},
   "source": [
    "# Cartopy Maps"
   ]
  },
  {
   "cell_type": "code",
   "execution_count": 8,
   "id": "61790b06-d7c4-4e2d-a120-72724a7ea79a",
   "metadata": {},
   "outputs": [],
   "source": [
    "#Imports\n",
    "import matplotlib.pyplot as plt\n",
    "import cartopy.crs as ccrs\n",
    "import cartopy.feature as cfeature\n",
    "import pandas as pd\n",
    "import numpy as np\n",
    "from shapely.geometry import Point\n",
    "import geopandas as gpd"
   ]
  },
  {
   "cell_type": "code",
   "execution_count": 2,
   "id": "414cdd40-9720-4e98-a1a5-086d2cea6e01",
   "metadata": {},
   "outputs": [],
   "source": [
    "# load data into a dataframe\n",
    "path = '../data/GP_Alumni_List_Cleaned.csv'\n",
    "df = pd.read_csv(path).copy()"
   ]
  },
  {
   "cell_type": "code",
   "execution_count": 29,
   "id": "da48c812-24a6-48ce-9434-9c6a022ae94a",
   "metadata": {},
   "outputs": [
    {
     "ename": "ModuleNotFoundError",
     "evalue": "No module named 'plotly'",
     "output_type": "error",
     "traceback": [
      "\u001b[1;31m---------------------------------------------------------------------------\u001b[0m",
      "\u001b[1;31mModuleNotFoundError\u001b[0m                       Traceback (most recent call last)",
      "Cell \u001b[1;32mIn[29], line 2\u001b[0m\n\u001b[0;32m      1\u001b[0m \u001b[38;5;28;01mimport\u001b[39;00m \u001b[38;5;21;01mpandas\u001b[39;00m \u001b[38;5;28;01mas\u001b[39;00m \u001b[38;5;21;01mpd\u001b[39;00m\n\u001b[1;32m----> 2\u001b[0m \u001b[38;5;28;01mimport\u001b[39;00m \u001b[38;5;21;01mplotly\u001b[39;00m\u001b[38;5;21;01m.\u001b[39;00m\u001b[38;5;21;01mexpress\u001b[39;00m \u001b[38;5;28;01mas\u001b[39;00m \u001b[38;5;21;01mpx\u001b[39;00m\n\u001b[0;32m      4\u001b[0m \u001b[38;5;66;03m# Sample DataFrame (replace this with your actual DataFrame)\u001b[39;00m\n\u001b[0;32m      5\u001b[0m data \u001b[38;5;241m=\u001b[39m {\n\u001b[0;32m      6\u001b[0m     \u001b[38;5;124m'\u001b[39m\u001b[38;5;124mCountry\u001b[39m\u001b[38;5;124m'\u001b[39m: [\u001b[38;5;124m'\u001b[39m\u001b[38;5;124mUSA\u001b[39m\u001b[38;5;124m'\u001b[39m, \u001b[38;5;124m'\u001b[39m\u001b[38;5;124mUSA\u001b[39m\u001b[38;5;124m'\u001b[39m, \u001b[38;5;124m'\u001b[39m\u001b[38;5;124mCanada\u001b[39m\u001b[38;5;124m'\u001b[39m, \u001b[38;5;124m'\u001b[39m\u001b[38;5;124mCanada\u001b[39m\u001b[38;5;124m'\u001b[39m, \u001b[38;5;124m'\u001b[39m\u001b[38;5;124mCanada\u001b[39m\u001b[38;5;124m'\u001b[39m, \u001b[38;5;124m'\u001b[39m\u001b[38;5;124mMexico\u001b[39m\u001b[38;5;124m'\u001b[39m],\n\u001b[0;32m      7\u001b[0m     \u001b[38;5;124m'\u001b[39m\u001b[38;5;124mLongitude\u001b[39m\u001b[38;5;124m'\u001b[39m: [\u001b[38;5;241m-\u001b[39m\u001b[38;5;241m95.7129\u001b[39m, \u001b[38;5;241m-\u001b[39m\u001b[38;5;241m97.7431\u001b[39m, \u001b[38;5;241m-\u001b[39m\u001b[38;5;241m106.3468\u001b[39m, \u001b[38;5;241m-\u001b[39m\u001b[38;5;241m75.4268\u001b[39m, \u001b[38;5;241m-\u001b[39m\u001b[38;5;241m106.3468\u001b[39m, \u001b[38;5;241m-\u001b[39m\u001b[38;5;241m102.5528\u001b[39m],\n\u001b[0;32m      8\u001b[0m     \u001b[38;5;124m'\u001b[39m\u001b[38;5;124mLatitude\u001b[39m\u001b[38;5;124m'\u001b[39m: [\u001b[38;5;241m37.0902\u001b[39m, \u001b[38;5;241m30.2672\u001b[39m, \u001b[38;5;241m56.1304\u001b[39m, \u001b[38;5;241m45.4215\u001b[39m, \u001b[38;5;241m56.1304\u001b[39m, \u001b[38;5;241m23.6345\u001b[39m]\n\u001b[0;32m      9\u001b[0m }\n",
      "\u001b[1;31mModuleNotFoundError\u001b[0m: No module named 'plotly'"
     ]
    }
   ],
   "source": [
    "import pandas as pd\n",
    "import plotly.express as px\n",
    "\n",
    "# Sample DataFrame (replace this with your actual DataFrame)\n",
    "data = {\n",
    "    'Country': ['USA', 'USA', 'Canada', 'Canada', 'Canada', 'Mexico'],\n",
    "    'Longitude': [-95.7129, -97.7431, -106.3468, -75.4268, -106.3468, -102.5528],\n",
    "    'Latitude': [37.0902, 30.2672, 56.1304, 45.4215, 56.1304, 23.6345]\n",
    "}\n",
    "df = pd.DataFrame(data)\n",
    "\n",
    "# Create an interactive scatter plot using Plotly\n",
    "fig = px.scatter_geo(df, lat='Latitude', lon='Longitude', color='Country',\n",
    "                     size=[10]*len(df),  # constant size for bubbles\n",
    "                     hover_name='Country',\n",
    "                     projection='natural earth')\n",
    "\n",
    "# Customize layout\n",
    "fig.update_layout(title='Map with Country Bubbles', geo=dict(showcountries=True))\n",
    "\n",
    "# Show the plot\n",
    "fig.show()"
   ]
  }
 ],
 "metadata": {
  "kernelspec": {
   "display_name": "Python 3 (ipykernel)",
   "language": "python",
   "name": "python3"
  },
  "language_info": {
   "codemirror_mode": {
    "name": "ipython",
    "version": 3
   },
   "file_extension": ".py",
   "mimetype": "text/x-python",
   "name": "python",
   "nbconvert_exporter": "python",
   "pygments_lexer": "ipython3",
   "version": "3.12.3"
  }
 },
 "nbformat": 4,
 "nbformat_minor": 5
}
