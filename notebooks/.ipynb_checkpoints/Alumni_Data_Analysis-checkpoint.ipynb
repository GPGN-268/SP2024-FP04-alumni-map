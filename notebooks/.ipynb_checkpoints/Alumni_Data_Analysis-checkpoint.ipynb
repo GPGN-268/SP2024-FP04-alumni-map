{
 "cells": [
  {
   "cell_type": "markdown",
   "id": "4a93d48d-1a27-45c6-86c6-3e6a167ff922",
   "metadata": {},
   "source": [
    "<div style=\"display: flex; align-items: center;\">\n",
    "    <img src=\"../figures/Mines Geophysics Black Moon Circle Waves 3.3.png\" alt=\"Example Image\" width=\"10%\">\n",
    "    <div style=\"margin-left: 10px;\">\n",
    "        <h1>GP100 Alumni Map</h1>\n",
    "        <h2>Data Analysis</h2>\n",
    "    </div>\n",
    "</div>"
   ]
  },
  {
   "cell_type": "markdown",
   "id": "4009a1df-c8af-4382-aac1-c1b4d2f3b848",
   "metadata": {
    "tags": []
   },
   "source": [
    "### Loading the Data"
   ]
  },
  {
   "cell_type": "code",
   "execution_count": 1,
   "id": "731169e0-1542-4a6b-926a-9c1e883d704b",
   "metadata": {},
   "outputs": [],
   "source": [
    "# import modules\n",
    "import numpy as np\n",
    "import pandas as pd"
   ]
  },
  {
   "cell_type": "code",
   "execution_count": 12,
   "id": "e8d28c7d-aa48-4cb2-aebb-6b43fdcbdfbb",
   "metadata": {},
   "outputs": [
    {
     "data": {
      "text/html": [
       "<div>\n",
       "<style scoped>\n",
       "    .dataframe tbody tr th:only-of-type {\n",
       "        vertical-align: middle;\n",
       "    }\n",
       "\n",
       "    .dataframe tbody tr th {\n",
       "        vertical-align: top;\n",
       "    }\n",
       "\n",
       "    .dataframe thead th {\n",
       "        text-align: right;\n",
       "    }\n",
       "</style>\n",
       "<table border=\"1\" class=\"dataframe\">\n",
       "  <thead>\n",
       "    <tr style=\"text-align: right;\">\n",
       "      <th></th>\n",
       "      <th>Affiliation</th>\n",
       "      <th>PrefClassYear</th>\n",
       "      <th>Degrees</th>\n",
       "      <th>StateOrProvince</th>\n",
       "      <th>Country</th>\n",
       "    </tr>\n",
       "  </thead>\n",
       "  <tbody>\n",
       "    <tr>\n",
       "      <th>0</th>\n",
       "      <td>Alumni</td>\n",
       "      <td>1986.0</td>\n",
       "      <td>BSc Geop Eng '83</td>\n",
       "      <td>CO</td>\n",
       "      <td>Saudi Arabia</td>\n",
       "    </tr>\n",
       "  </tbody>\n",
       "</table>\n",
       "</div>"
      ],
      "text/plain": [
       "  Affiliation  PrefClassYear           Degrees StateOrProvince       Country\n",
       "0      Alumni         1986.0  BSc Geop Eng '83              CO  Saudi Arabia"
      ]
     },
     "execution_count": 12,
     "metadata": {},
     "output_type": "execute_result"
    }
   ],
   "source": [
    "# load data into a dataframe\n",
    "path = './data/GP_Alumni_List.csv'\n",
    "df = pd.read_csv(path)\n",
    "\n",
    "# quick look at data\n",
    "df.mode()"
   ]
  },
  {
   "cell_type": "markdown",
   "id": "40aca713-25ca-422e-b929-bc25f04a67d8",
   "metadata": {},
   "source": [
    "### Cleaning the Data"
   ]
  },
  {
   "cell_type": "code",
   "execution_count": null,
   "id": "00f317c2-cce5-4cd7-8786-4cbe9abb51b4",
   "metadata": {},
   "outputs": [],
   "source": [
    "# Delete rows if they are not alumni, and then delete the affiliation column\n",
    "\n",
    "# Seperate Degrees into BSc, BSc_yr, MSc, MSc_yr, phD, phD_yr\n",
    "\n",
    "# Remove Canadians\n",
    "# (if item in StateOrProvince > 2 characters, remove)\n",
    "# Rename StateOrProvince to just 'State'"
   ]
  }
 ],
 "metadata": {
  "kernelspec": {
   "display_name": "Python 3 (ipykernel)",
   "language": "python",
   "name": "python3"
  },
  "language_info": {
   "codemirror_mode": {
    "name": "ipython",
    "version": 3
   },
   "file_extension": ".py",
   "mimetype": "text/x-python",
   "name": "python",
   "nbconvert_exporter": "python",
   "pygments_lexer": "ipython3",
   "version": "3.9.13"
  }
 },
 "nbformat": 4,
 "nbformat_minor": 5
}
